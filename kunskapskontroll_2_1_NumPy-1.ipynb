{
 "cells": [
  {
   "cell_type": "markdown",
   "id": "dacf74e6",
   "metadata": {},
   "source": [
    "# NumPy"
   ]
  },
  {
   "cell_type": "markdown",
   "id": "01b2bf34",
   "metadata": {},
   "source": [
    "Read the links: https://numpy.org/doc/stable/user/quickstart.html  and https://numpy.org/doc/stable/user/basics.broadcasting.html  before solving the exercises. "
   ]
  },
  {
   "cell_type": "code",
   "execution_count": 46,
   "id": "1f79e4a6",
   "metadata": {},
   "outputs": [],
   "source": [
    "import numpy as np"
   ]
  },
  {
   "cell_type": "markdown",
   "id": "7dae6889",
   "metadata": {},
   "source": [
    "### Print out the dimension (number of axes), shape, size and the datatype of the matrix A."
   ]
  },
  {
   "cell_type": "code",
   "execution_count": 47,
   "id": "7b3678cd",
   "metadata": {},
   "outputs": [],
   "source": [
    "A = np.arange(1, 16).reshape(3,5)"
   ]
  },
  {
   "cell_type": "code",
   "execution_count": 54,
   "id": "31d39235",
   "metadata": {},
   "outputs": [
    {
     "name": "stdout",
     "output_type": "stream",
     "text": [
      "2\n",
      "(3, 5)\n",
      "15\n",
      "int64\n"
     ]
    }
   ],
   "source": [
    "print(A.ndim)\n",
    "print(A.shape)\n",
    "print(A.size)\n",
    "print(A.dtype)\n",
    "\n"
   ]
  },
  {
   "cell_type": "code",
   "execution_count": 52,
   "id": "e0045c62",
   "metadata": {},
   "outputs": [],
   "source": [
    "A = A.reshape(3,5)"
   ]
  },
  {
   "cell_type": "code",
   "execution_count": 53,
   "id": "7d9bffec",
   "metadata": {},
   "outputs": [
    {
     "data": {
      "text/plain": [
       "array([[ 1,  2,  3,  4,  5],\n",
       "       [ 6,  7,  8,  9, 10],\n",
       "       [11, 12, 13, 14, 15]])"
      ]
     },
     "execution_count": 53,
     "metadata": {},
     "output_type": "execute_result"
    }
   ],
   "source": [
    "A"
   ]
  },
  {
   "cell_type": "markdown",
   "id": "e56d2a96",
   "metadata": {},
   "source": [
    "### Do the following computations on the matrices B and C: \n",
    "* Elementwise subtraction. \n",
    "* Elementwise multiplication. \n",
    "* Matrix multiplication (by default you should use the @ operator)."
   ]
  },
  {
   "cell_type": "code",
   "execution_count": 43,
   "id": "a7053fbb",
   "metadata": {},
   "outputs": [
    {
     "name": "stdout",
     "output_type": "stream",
     "text": [
      "[[1 2 3]\n",
      " [4 5 6]\n",
      " [7 8 9]]\n",
      "\n",
      "[[2. 2. 2.]\n",
      " [2. 2. 2.]\n",
      " [2. 2. 2.]]\n"
     ]
    }
   ],
   "source": [
    "B = np.arange(1, 10).reshape(3, 3)\n",
    "C = np.ones((3, 3))*2\n",
    "\n",
    "print(B)\n",
    "print()\n",
    "print(C)"
   ]
  },
  {
   "cell_type": "code",
   "execution_count": 44,
   "id": "3cd794ae",
   "metadata": {},
   "outputs": [
    {
     "data": {
      "text/plain": [
       "array([[-1.,  0.,  1.],\n",
       "       [ 2.,  3.,  4.],\n",
       "       [ 5.,  6.,  7.]])"
      ]
     },
     "execution_count": 44,
     "metadata": {},
     "output_type": "execute_result"
    }
   ],
   "source": [
    "np.subtract(B, C)"
   ]
  },
  {
   "cell_type": "code",
   "execution_count": 19,
   "id": "8208dc17",
   "metadata": {},
   "outputs": [
    {
     "name": "stdout",
     "output_type": "stream",
     "text": [
      "[[ 2.  4.  6.]\n",
      " [ 8. 10. 12.]\n",
      " [14. 16. 18.]]\n",
      "[[ 2.  4.  6.]\n",
      " [ 8. 10. 12.]\n",
      " [14. 16. 18.]]\n"
     ]
    }
   ],
   "source": [
    "print(np.multiply(B,C))\n",
    "\n",
    "print(B * C)"
   ]
  },
  {
   "cell_type": "code",
   "execution_count": null,
   "id": "f97a3a17",
   "metadata": {},
   "outputs": [
    {
     "data": {
      "text/plain": [
       "array([[12., 12., 12.],\n",
       "       [30., 30., 30.],\n",
       "       [48., 48., 48.]])"
      ]
     },
     "execution_count": 20,
     "metadata": {},
     "output_type": "execute_result"
    }
   ],
   "source": [
    "B @ C"
   ]
  },
  {
   "cell_type": "markdown",
   "id": "96030d53",
   "metadata": {},
   "source": [
    "### Do the following calculations on the matrix:\n",
    "* Exponentiate each number elementwise (use the np.exp function).\n",
    "\n",
    "* Calculate the minimum value in the whole matrix. \n",
    "* Calculcate the minimum value in each row. \n",
    "* Calculcate the minimum value in each column. \n",
    "\n",
    "\n",
    "* Find the index value for the minimum value in the whole matrix (hint: use np.argmin).\n",
    "* Find the index value for the minimum value in each row (hint: use np.argmin).\n",
    "\n",
    "\n",
    "* Calculate the sum for all elements.\n",
    "* Calculate the mean for each column. \n",
    "* Calculate the median for each column. "
   ]
  },
  {
   "cell_type": "code",
   "execution_count": 21,
   "id": "f8a9166b",
   "metadata": {},
   "outputs": [
    {
     "name": "stdout",
     "output_type": "stream",
     "text": [
      "[[1 2 3]\n",
      " [4 5 6]\n",
      " [7 8 9]]\n"
     ]
    }
   ],
   "source": [
    "B = np.arange(1, 10).reshape(3, 3)\n",
    "print(B)"
   ]
  },
  {
   "cell_type": "code",
   "execution_count": 31,
   "id": "f03f24f7",
   "metadata": {},
   "outputs": [
    {
     "name": "stdout",
     "output_type": "stream",
     "text": [
      "[[1 2 3]\n",
      " [4 5 6]\n",
      " [7 8 9]]\n",
      "\n",
      "2980.9579870417283\n",
      "\n",
      "1\n",
      "\n",
      "[1 4 7]\n",
      "\n",
      "[1 2 3]\n",
      "\n",
      "[0 0 0]\n",
      "\n",
      "[0 0 0]\n",
      "\n",
      "[0 0 0]\n",
      "\n",
      "[ 6 15 24]\n",
      "\n",
      "[4. 5. 6.]\n",
      "\n",
      "[2. 5. 8.]\n"
     ]
    }
   ],
   "source": [
    "# variables\n",
    "B = np.arange(1, 10).reshape(3, 3)\n",
    "E = np.exp(8)\n",
    "min_val = np.min(B)\n",
    "mini_row = np.min(B, axis=1)\n",
    "mini_col = np.min(B, axis=0)\n",
    "mini_index = np.argmin(B, axis=1)\n",
    "mini_index_row = np.argmin(B, axis=0)\n",
    "sum = np.sum(B, axis=1)\n",
    "col = np.mean(B, axis=0)\n",
    "median_col = np.median(B, axis=1)\n",
    "\n",
    "#output\n",
    "print(B)\n",
    "print()\n",
    "print(E)\n",
    "print()\n",
    "print (min_val)\n",
    "print()\n",
    "print(mini_row)\n",
    "print()\n",
    "print(mini_col)\n",
    "print()\n",
    "print(mini_index)\n",
    "print()\n",
    "print(mini_index)\n",
    "print()\n",
    "print(mini_index_row)\n",
    "print()\n",
    "print(sum)\n",
    "print()\n",
    "print(col)\n",
    "print()\n",
    "print(median_col)\n"
   ]
  },
  {
   "cell_type": "markdown",
   "id": "541eb7ba",
   "metadata": {},
   "source": [
    "### What does it mean when you provide fewer indices than axes when slicing? See example below."
   ]
  },
  {
   "cell_type": "code",
   "execution_count": 55,
   "id": "9c8abf56",
   "metadata": {},
   "outputs": [
    {
     "name": "stdout",
     "output_type": "stream",
     "text": [
      "[[ 1  2  3  4  5]\n",
      " [ 6  7  8  9 10]\n",
      " [11 12 13 14 15]]\n"
     ]
    }
   ],
   "source": [
    "print(A)"
   ]
  },
  {
   "cell_type": "code",
   "execution_count": 56,
   "id": "69415f7b",
   "metadata": {},
   "outputs": [
    {
     "data": {
      "text/plain": [
       "array([ 6,  7,  8,  9, 10])"
      ]
     },
     "execution_count": 56,
     "metadata": {},
     "output_type": "execute_result"
    }
   ],
   "source": [
    "A[1]"
   ]
  },
  {
   "cell_type": "markdown",
   "id": "6c53541b",
   "metadata": {},
   "source": [
    "**Answer:**"
   ]
  },
  {
   "cell_type": "code",
   "execution_count": null,
   "id": "de01e120",
   "metadata": {},
   "outputs": [],
   "source": [
    "# 1. You print out whatever exist inside A.\n",
    "# 2. You get whatever exists in index 1 in A"
   ]
  },
  {
   "cell_type": "markdown",
   "id": "6652d0c9",
   "metadata": {},
   "source": [
    "### Iterating over multidimensional arrays is done with respect to the first axis, so in the example below we iterate trough the rows. If you would like to iterate through the array *elementwise*, how would you do that?"
   ]
  },
  {
   "cell_type": "code",
   "execution_count": 57,
   "id": "9459864f",
   "metadata": {},
   "outputs": [
    {
     "data": {
      "text/plain": [
       "array([[ 1,  2,  3,  4,  5],\n",
       "       [ 6,  7,  8,  9, 10],\n",
       "       [11, 12, 13, 14, 15]])"
      ]
     },
     "execution_count": 57,
     "metadata": {},
     "output_type": "execute_result"
    }
   ],
   "source": [
    "A"
   ]
  },
  {
   "cell_type": "code",
   "execution_count": 35,
   "id": "a671bb5a",
   "metadata": {},
   "outputs": [
    {
     "name": "stdout",
     "output_type": "stream",
     "text": [
      "[1 2 3 4 5]\n",
      "[ 6  7  8  9 10]\n",
      "[11 12 13 14 15]\n"
     ]
    }
   ],
   "source": [
    "for i in A:\n",
    "    print(i)"
   ]
  },
  {
   "cell_type": "code",
   "execution_count": 58,
   "id": "f4e443a0",
   "metadata": {},
   "outputs": [
    {
     "name": "stdout",
     "output_type": "stream",
     "text": [
      "4\n",
      "8\n",
      "16\n",
      "28\n",
      "46\n",
      "128\n"
     ]
    }
   ],
   "source": [
    "A = np.array ([[4, 8, 16], [28, 46, 128]])\n",
    "\n",
    "for element in np.nditer(A):\n",
    "    print(element)"
   ]
  },
  {
   "cell_type": "markdown",
   "id": "608a2583",
   "metadata": {},
   "source": [
    "### Explain what the code below does. More specifically, b has three axes - what does this mean? "
   ]
  },
  {
   "cell_type": "code",
   "execution_count": 61,
   "id": "f8f9b26f",
   "metadata": {},
   "outputs": [
    {
     "name": "stdout",
     "output_type": "stream",
     "text": [
      "[ 0  1  2  3  4  5  6  7  8  9 10 11 12 13 14 15 16 17 18 19 20 21 22 23\n",
      " 24 25 26 27 28 29]\n",
      "\n",
      "[[[ 0  1  2  3  4]\n",
      "  [ 5  6  7  8  9]\n",
      "  [10 11 12 13 14]]\n",
      "\n",
      " [[15 16 17 18 19]\n",
      "  [20 21 22 23 24]\n",
      "  [25 26 27 28 29]]]\n"
     ]
    }
   ],
   "source": [
    "a = np.arange(30)\n",
    "b = a.reshape((2, 3, -1))\n",
    "print(a)\n",
    "print()\n",
    "\n",
    "print(b)"
   ]
  },
  {
   "cell_type": "code",
   "execution_count": null,
   "id": "863a45df",
   "metadata": {},
   "outputs": [],
   "source": [
    "# 1. Output is the original array valued from 0 - 29\n",
    "# 2. Skapar två block som är 3 x 5\n"
   ]
  },
  {
   "cell_type": "code",
   "execution_count": null,
   "id": "eed38bbb-dd20-4d23-837f-679aa3d3a067",
   "metadata": {},
   "outputs": [],
   "source": []
  },
  {
   "cell_type": "markdown",
   "id": "421c9607-819a-401d-949a-97424436fe29",
   "metadata": {},
   "source": [
    "# For the exercises below, read the document *\"matematik_yh_antonio_vektorer_matriser_utdrag\"*\n",
    "# Solutions to the exercises and recorded videos can be found here: https://github.com/AntonioPrgomet/matematik_foer_yh\n",
    "\n",
    "# If you find the exercises below very hard, do not worry. Try your best, that will be enough. "
   ]
  },
  {
   "cell_type": "markdown",
   "id": "ab5933d5",
   "metadata": {},
   "source": [
    "### Broadcasting\n",
    "**Read the following link about broadcasting: https://numpy.org/doc/stable/user/basics.broadcasting.html#basics-broadcasting**"
   ]
  },
  {
   "cell_type": "markdown",
   "id": "039805ba",
   "metadata": {},
   "source": [
    "# Remark on Broadcasting when doing Linear Algebra calculations in Python. "
   ]
  },
  {
   "cell_type": "markdown",
   "id": "c4bcc147",
   "metadata": {},
   "source": [
    "### From the mathematical rules of matrix addition, the operation below (m1 + m2) does not make sense. The reason is that matrix addition requires two matrices of the same size. In Python however, it works due to broadcasting rules in NumPy. So you must be careful when doing Linear Algebra calculations in Python since they do not follow the \"mathematical rules\". This can however easily be handled by doing some simple programming, for example validating that two matrices have the same shape is easy if you for instance want to add two matrices. "
   ]
  },
  {
   "cell_type": "code",
   "execution_count": 62,
   "id": "1fd46778",
   "metadata": {},
   "outputs": [
    {
     "name": "stdout",
     "output_type": "stream",
     "text": [
      "[[2 3]\n",
      " [4 5]]\n"
     ]
    }
   ],
   "source": [
    "m1 = np.array([[1, 2], [3, 4]])\n",
    "m2 = np.array([1, 1])\n",
    "print(m1 + m2)"
   ]
  },
  {
   "cell_type": "markdown",
   "id": "047d6576",
   "metadata": {},
   "source": [
    "### The example below would also not be allowed if following the \"mathematical rules\" in Linear Algebra. But it works due to broadcasting in NumPy. "
   ]
  },
  {
   "cell_type": "code",
   "execution_count": 63,
   "id": "5e6ef2e4",
   "metadata": {},
   "outputs": [
    {
     "name": "stdout",
     "output_type": "stream",
     "text": [
      "[2 3 4]\n"
     ]
    }
   ],
   "source": [
    "v1 = np.array([1, 2, 3])\n",
    "print(v1 + 1)"
   ]
  },
  {
   "cell_type": "code",
   "execution_count": 64,
   "id": "e2cbae26",
   "metadata": {},
   "outputs": [
    {
     "name": "stdout",
     "output_type": "stream",
     "text": [
      "[[1 2]\n",
      " [3 4]]\n",
      "[2 2]\n"
     ]
    }
   ],
   "source": [
    "A = np.arange(1, 5).reshape(2,2)\n",
    "print(A)\n",
    "\n",
    "b = np.array([2, 2])\n",
    "print(b)"
   ]
  },
  {
   "cell_type": "markdown",
   "id": "722fd5cd",
   "metadata": {},
   "source": [
    "# Vector- and matrix algebra Exercises"
   ]
  },
  {
   "cell_type": "markdown",
   "id": "b63a3081-d976-4d9f-bfd0-a63917e79f7d",
   "metadata": {},
   "source": [
    "**Now you are going to create a function that can be reused every time you add or multiply matrices. The function is created so that we do the addition and multiplication according to the rules of vector- and matrix algebra.**\n",
    "\n",
    "**Create a function \"add_mult_matrices\" that takes two matrices as input arguments (validate that the input are of the type numpy.ndarray by using the isinstance function), a third argument that is either 'add' or 'multiply' that specifies if you want to add or multiply the matrices (validate that the third argument is either 'add' or 'multiply'). When doing matrix addition, validate that the matrices have the same size. When doing matrix multiplication, validate that the sizes conform (i.e. number of columns in the first matrix is equal to the number of rows in the second matrix).**"
   ]
  },
  {
   "cell_type": "code",
   "execution_count": 65,
   "id": "3506f977-ac0a-473f-85bc-eec9f35dc498",
   "metadata": {},
   "outputs": [
    {
     "name": "stdout",
     "output_type": "stream",
     "text": [
      "Matrix Addition Result:\n",
      " [[ 7 11]\n",
      " [13 12]]\n",
      "Matrix Multiplication Result:\n",
      " [[28 49]\n",
      " [68 83]]\n"
     ]
    }
   ],
   "source": [
    "def add_mult_matrices(A, B, operation):\n",
    "    # Validate that the inputs are numpy arrays\n",
    "    if not isinstance(A, np.ndarray) or not isinstance(B, np.ndarray):\n",
    "        raise ValueError(\"Both inputs must be of type numpy.ndarray\")\n",
    "\n",
    "    # Validate that the operation is either 'add' or 'multiply'\n",
    "    if operation not in ['add', 'multiply']:\n",
    "        raise ValueError(\"The operation must be either 'add' or 'multiply'\")\n",
    "\n",
    "    # Matrix Addition\n",
    "    if operation == 'add':\n",
    "        # Validate that the matrices have the same shape for addition\n",
    "        if A.shape != B.shape:\n",
    "            raise ValueError(\"Matrices must have the same shape for addition\")\n",
    "        return A + B\n",
    "\n",
    "    # Matrix Multiplication\n",
    "    elif operation == 'multiply':\n",
    "        # Validate that the number of columns of A is equal to the number of rows of B\n",
    "        if A.shape[1] != B.shape[0]:\n",
    "            raise ValueError(\"Number of columns of A must equal the number of rows of B for multiplication\")\n",
    "        return np.dot(A, B)\n",
    "\n",
    "# Example usage:\n",
    "A = np.array([[5, 3], [7, 9]])\n",
    "B = np.array([[2, 8], [6, 3]])\n",
    "\n",
    "# Addition example\n",
    "result_add = add_mult_matrices(A, B, 'add')\n",
    "print(\"Matrix Addition Result:\\n\", result_add)\n",
    "\n",
    "# Multiplication example\n",
    "result_multiply = add_mult_matrices(A, B, 'multiply')\n",
    "print(\"Matrix Multiplication Result:\\n\", result_multiply)"
   ]
  },
  {
   "cell_type": "markdown",
   "id": "8dad82d0-2359-4dff-8f5b-a57d3e34103c",
   "metadata": {},
   "source": [
    "### Solve all the exercises in chapter 10.1 in the book \"Matematik för yrkeshögskolan\" by using Python. "
   ]
  },
  {
   "cell_type": "code",
   "execution_count": null,
   "id": "89df88af-3668-4d98-a0a4-e6d92eea0f89",
   "metadata": {},
   "outputs": [],
   "source": [
    "import numpy as np\n",
    "\n",
    "x = np.array([4,3])\n"
   ]
  },
  {
   "cell_type": "code",
   "execution_count": 2,
   "id": "6dcb7ad2",
   "metadata": {},
   "outputs": [
    {
     "name": "stdout",
     "output_type": "stream",
     "text": [
      " Dimension of x: 1\n"
     ]
    }
   ],
   "source": [
    "# 10.1.1 a)\n",
    "\n",
    "dimension = x.ndim\n",
    "print(f' Dimension of x: {dimension}')"
   ]
  },
  {
   "cell_type": "code",
   "execution_count": null,
   "id": "3fc6b656",
   "metadata": {},
   "outputs": [
    {
     "name": "stdout",
     "output_type": "stream",
     "text": [
      " Element 1: 5 * 4 = [0, 0, 0, 0, 0]\n",
      " Element 2: 5 * 3 = [1, 1, 1, 1, 1] \n",
      "Result: [20 15]\n"
     ]
    }
   ],
   "source": [
    "# 10.1.1 b) Calculate 5x\n",
    "\n",
    "x_times_5 = 5 * x \n",
    "print(f' Element 1: 5 * {x[0]} = {5 * [0]}')\n",
    "print(f' Element 2: 5 * {x[1]} = {5 * [1]} ')\n",
    "print(f'Result: {x_times_5}')\n",
    "\n",
    "# Troubleshoot:\n",
    "# Why do I get 5 * 4 = [0,0,0,0,0] and 5 * 3 = [0,0,0,0,0] instead of 20 and 15?\n",
    "# Added a x before [0] and [1] fixed the problem. "
   ]
  },
  {
   "cell_type": "code",
   "execution_count": null,
   "id": "0727e5a9",
   "metadata": {},
   "outputs": [
    {
     "name": "stdout",
     "output_type": "stream",
     "text": [
      " Element 1: 3 * 4 = 12\n",
      " Element 1: 3 * 3 = 9\n",
      " Result: [12  9]\n"
     ]
    }
   ],
   "source": [
    "# 10.1.1 c) Calculate 3x\n",
    "x_times_3 = 3 * x\n",
    "print(f' Element 1: 3 * {x[0]} = { 3 * x[0]}')\n",
    "print(f' Element 1: 3 * {x[1]} = { 3 * x[1]}')\n",
    "print(f' Result: {x_times_3}')\n"
   ]
  },
  {
   "cell_type": "code",
   "execution_count": null,
   "id": "14556d56",
   "metadata": {},
   "outputs": [
    {
     "name": "stdout",
     "output_type": "stream",
     "text": [
      " [20 15]\n",
      " [12  9]\n",
      " 5x = [20 15], 3x = [12  9]\n",
      " [32 24]\n",
      " 20 + 12 = 32\n",
      " 15 + 9 = 24\n",
      " \n"
     ]
    }
   ],
   "source": [
    "# 10.1.1 d) calculate 5x + 3x\n",
    "\n",
    "x5 = 5 * x # Multiply\n",
    "print(f' {x5}')\n",
    "x3 = 3 * x\n",
    "print(f' {x3}')\n",
    "print(f' 5x = {x5}, 3x = {x3}')\n",
    "\n",
    "sumx5x3 = x5 + x3 # addition\n",
    "print(f' {sumx5x3}')\n",
    "print (f' {x5[0]} + {x3[0]} = {sumx5x3[0]}')\n",
    "print (f' {x5[1]} + {x3[1]} = {sumx5x3[1]}')\n"
   ]
  },
  {
   "cell_type": "code",
   "execution_count": null,
   "id": "52668b69",
   "metadata": {},
   "outputs": [
    {
     "name": "stdout",
     "output_type": "stream",
     "text": [
      " 8 * 4 = 32\n",
      " 8 * 3 = 24\n",
      " Result: [32 24]\n"
     ]
    }
   ],
   "source": [
    "# 10.1.1 e) Calculate 8x\n",
    "\n",
    "x8 = 8 * x\n",
    "print(f' 8 * 4 = {x8[0]}')\n",
    "print(f' 8 * 3 = {x8[1]}')\n",
    "print(f' Result: {x8}')"
   ]
  },
  {
   "cell_type": "code",
   "execution_count": 51,
   "id": "1cdb2f4f",
   "metadata": {},
   "outputs": [
    {
     "name": "stdout",
     "output_type": "stream",
     "text": [
      " 4x = [16 12]\n",
      " 16 - 4 = 12\n",
      " 12 - 3 = 9\n"
     ]
    }
   ],
   "source": [
    "# 10.1.1 f) Calculate 4x - x\n",
    "\n",
    "x4 = 4 * x # Multiply\n",
    "print(f' 4x = {x4}')\n",
    "\n",
    "four_minus_x = x4 - x # Substraction \n",
    "print(f' {x4[0]} - {x[0]} = {four_minus_x[0]}')\n",
    "print(f' {x4[1]} - {x[1]} = {four_minus_x[1]}')\n"
   ]
  },
  {
   "cell_type": "code",
   "execution_count": null,
   "id": "be6a1dde",
   "metadata": {},
   "outputs": [
    {
     "name": "stdout",
     "output_type": "stream",
     "text": [
      " Original [4 3] Shape (2,)\n",
      " Transpose [[4]\n",
      " [3]]\n"
     ]
    }
   ],
   "source": [
    "# 10.1.1 f)\n",
    "x = np.array([4,3])\n",
    "\n",
    "x_transpose = x.reshape(-1, 1)\n",
    "\n",
    "print(f' Original {x} Shape {x.shape}')\n",
    "print(f' Transpose {x_transpose}')"
   ]
  },
  {
   "cell_type": "code",
   "execution_count": 60,
   "id": "4d9b70ab",
   "metadata": {},
   "outputs": [
    {
     "data": {
      "text/plain": [
       "(2, 1)"
      ]
     },
     "execution_count": 60,
     "metadata": {},
     "output_type": "execute_result"
    }
   ],
   "source": [
    "# 10.1.1 g)\n",
    "\n",
    "x_transpose.shape"
   ]
  },
  {
   "cell_type": "code",
   "execution_count": 64,
   "id": "6a61172f",
   "metadata": {},
   "outputs": [
    {
     "name": "stdout",
     "output_type": "stream",
     "text": [
      "Original vector x: [4 3] (Shape: (2,))\n",
      "Transpose of x:[[4]\n",
      " [3]] (Shape: (2, 1))\n",
      "Is x + xᵀ defined? False\n"
     ]
    }
   ],
   "source": [
    "# 10.1.1 h) is x + xt defined?\n",
    "\n",
    "x_transpose = x.reshape (-1, 1)\n",
    "\n",
    "is_defined = x.shape == x_transpose.shape\n",
    "\n",
    "print(f\"Original vector x: {x} (Shape: {x.shape})\")\n",
    "print(f\"Transpose of x:{x_transpose} (Shape: {x_transpose.shape})\")\n",
    "print(f\"Is x + xᵀ defined? {is_defined}\")\n"
   ]
  },
  {
   "cell_type": "code",
   "execution_count": 71,
   "id": "2cadfdff",
   "metadata": {},
   "outputs": [
    {
     "name": "stdout",
     "output_type": "stream",
     "text": [
      " [16  9]\n",
      " 25\n",
      " 5.0\n",
      " 5.0\n"
     ]
    }
   ],
   "source": [
    "x = np.array([4, 3])\n",
    "\n",
    "#Squares\n",
    "squares = x ** 2\n",
    "print(f' {squares}')\n",
    "\n",
    "#Sum\n",
    "sum_of_squares = np.sum(squares)\n",
    "print(f' {sum_of_squares}')\n",
    "\n",
    "a = np.sqrt(sum_of_squares)\n",
    "print(f' {a}')\n",
    "\n",
    "a2 = np.linalg.norm(x)\n",
    "print(f' {a2}')"
   ]
  },
  {
   "cell_type": "markdown",
   "id": "75c98984-1f88-4df1-b850-d2466de444a5",
   "metadata": {},
   "source": [
    "### Solve all the exercises, except 10.2.4, in chapter 10.2 in the book \"Matematik för yrkeshögskolan\" by using Python. "
   ]
  },
  {
   "cell_type": "code",
   "execution_count": null,
   "id": "65371610-16e1-48b2-b7fb-65e49002608a",
   "metadata": {},
   "outputs": [],
   "source": []
  },
  {
   "cell_type": "markdown",
   "id": "6a4a524f",
   "metadata": {},
   "source": [
    "### Copies and Views\n",
    "Read the following link: https://numpy.org/doc/stable/user/basics.copies.html"
   ]
  },
  {
   "cell_type": "markdown",
   "id": "6cbbeaf7",
   "metadata": {},
   "source": [
    "**Basic indexing creates a view, How can you check if v1 and v2 is a view or copy? If you change the last element in v2 to 123, will the last element in v1 be changed? Why?**"
   ]
  },
  {
   "cell_type": "code",
   "execution_count": 72,
   "id": "5b9ef4df",
   "metadata": {},
   "outputs": [
    {
     "name": "stdout",
     "output_type": "stream",
     "text": [
      "[0 1 2 3]\n",
      "[2 3]\n"
     ]
    }
   ],
   "source": [
    "v1 = np.arange(4)\n",
    "v2 = v1[-2:]\n",
    "print(v1)\n",
    "print(v2)"
   ]
  },
  {
   "cell_type": "code",
   "execution_count": 73,
   "id": "d2440489",
   "metadata": {},
   "outputs": [
    {
     "name": "stdout",
     "output_type": "stream",
     "text": [
      "None\n",
      "[0 1 2 3]\n"
     ]
    }
   ],
   "source": [
    "# The base attribute of a view returns the original array while it returns None for a copy.\n",
    "print(v1.base)\n",
    "print(v2.base)"
   ]
  },
  {
   "cell_type": "code",
   "execution_count": 74,
   "id": "c8752807",
   "metadata": {},
   "outputs": [
    {
     "name": "stdout",
     "output_type": "stream",
     "text": [
      "[  0   1   2 123]\n",
      "[  2 123]\n"
     ]
    }
   ],
   "source": [
    "# The last element in v1 will be changed aswell since v2 is a view, meaning they share the same data buffer.\n",
    "v2[-1] = 123\n",
    "print(v1)\n",
    "print(v2)"
   ]
  },
  {
   "cell_type": "code",
   "execution_count": null,
   "id": "3dd68221",
   "metadata": {},
   "outputs": [],
   "source": []
  }
 ],
 "metadata": {
  "kernelspec": {
   "display_name": "base",
   "language": "python",
   "name": "python3"
  },
  "language_info": {
   "codemirror_mode": {
    "name": "ipython",
    "version": 3
   },
   "file_extension": ".py",
   "mimetype": "text/x-python",
   "name": "python",
   "nbconvert_exporter": "python",
   "pygments_lexer": "ipython3",
   "version": "3.12.7"
  }
 },
 "nbformat": 4,
 "nbformat_minor": 5
}
